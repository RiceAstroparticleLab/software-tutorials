{
 "cells": [
  {
   "cell_type": "markdown",
   "id": "86a5df32-2d0e-4de1-a7c1-5dff2d96d39e",
   "metadata": {},
   "source": [
    "### How to access Strax data"
   ]
  },
  {
   "cell_type": "markdown",
   "id": "af3ab6b7-9d20-47aa-9e5c-fb096a5b6853",
   "metadata": {},
   "source": [
    "Start with a conda environment {conda env:2022.11.1}\n",
    "Data is scattered in stor0, stor1 and stor2, most of the new data downloaded should be in stor2"
   ]
  },
  {
   "cell_type": "markdown",
   "id": "01caea8b-f022-44d1-8a05-d42f2dcb030d",
   "metadata": {},
   "source": [
    "There might be an error when you import some of the following modules, you can ignore that."
   ]
  },
  {
   "cell_type": "markdown",
   "id": "3c589d1a-41b3-4853-aaff-db112ca146cd",
   "metadata": {},
   "source": [
    "NOTE: Cutax does not come with the environments provided, you will have to downloaded an appropriate version of cutax (if you even need to use cutax/want to use it) at https://github.com/XENONnT/cutax"
   ]
  },
  {
   "cell_type": "code",
   "execution_count": 15,
   "id": "01aed115-c586-41a3-84b8-d988b1a0b51a",
   "metadata": {},
   "outputs": [],
   "source": [
    "import strax \n",
    "import straxen \n",
    "import numpy as np\n",
    "import matplotlib.pyplot as plt\n",
    "import cutax # download cutax version 1.13.0\n"
   ]
  },
  {
   "cell_type": "code",
   "execution_count": 16,
   "id": "1442c2a2-f0cf-47ec-98dc-99124f4f4ab2",
   "metadata": {},
   "outputs": [
    {
     "name": "stdout",
     "output_type": "stream",
     "text": [
      "Found existing installation: straxen 2.0.6\n",
      "Uninstalling straxen-2.0.6:\n",
      "  Successfully uninstalled straxen-2.0.6\n",
      "Note: you may need to restart the kernel to use updated packages.\n"
     ]
    }
   ],
   "source": [
    "pip uninstall -y straxen "
   ]
  },
  {
   "cell_type": "code",
   "execution_count": 2,
   "id": "e3a2c4b5-924b-4ebe-9d94-ccd9ea9cdc9f",
   "metadata": {},
   "outputs": [],
   "source": [
    "run_id = '049047' #"
   ]
  },
  {
   "cell_type": "code",
   "execution_count": 17,
   "id": "4156373e-f0a3-4fa4-a6ae-e02ea6e50120",
   "metadata": {},
   "outputs": [
    {
     "name": "stderr",
     "output_type": "stream",
     "text": [
      "Unknown config option xedocs_version; will do nothing.\n",
      "Invalid context option xedocs_version; will do nothing.\n",
      "Unknown config option xedocs_version; will do nothing.\n",
      "Invalid context option xedocs_version; will do nothing.\n"
     ]
    }
   ],
   "source": [
    "# For Cutax\n",
    "st = cutax.contexts.xenonnt_offline(cmt_version = 'global_v9',\n",
    "                                    _raw_path = '/stor2/data/raw_recrods', \n",
    "                                    _processed_path = '/stor2/data/processed_data', \n",
    "                                    output_folder = '/stor2/data/processed_data')"
   ]
  },
  {
   "cell_type": "code",
   "execution_count": 7,
   "id": "34cb5b29-dcb9-4fac-887c-5f80c6a6cac7",
   "metadata": {},
   "outputs": [],
   "source": [
    "# For Straxen\n",
    "st = straxen.contexts.xenonnt(xedocs_version = 'global_v10',\n",
    "                                    _raw_paths = '/stor2/data/raw_recrods', \n",
    "                                    _processed_paths = '/stor2/data/processed_data', \n",
    "                                    output_folder = '/stor2/data/processed_data')"
   ]
  },
  {
   "cell_type": "code",
   "execution_count": 18,
   "id": "28b19e98-5e0d-4b5d-98fb-2f23c004cf71",
   "metadata": {},
   "outputs": [
    {
     "data": {
      "text/plain": [
       "True"
      ]
     },
     "execution_count": 18,
     "metadata": {},
     "output_type": "execute_result"
    }
   ],
   "source": [
    "st.is_stored(run_id, 'raw_records')"
   ]
  },
  {
   "cell_type": "code",
   "execution_count": 14,
   "id": "4bcbdff3-0c69-4c7d-8e4b-2c7fb653025d",
   "metadata": {},
   "outputs": [
    {
     "data": {
      "application/vnd.jupyter.widget-view+json": {
       "model_id": "48c170d89ae64170b13ad24f4eda5bc1",
       "version_major": 2,
       "version_minor": 0
      },
      "text/plain": [
       "Loading peaks: |          | 0.00 % [00:00<?]"
      ]
     },
     "metadata": {},
     "output_type": "display_data"
    },
    {
     "ename": "KeyboardInterrupt",
     "evalue": "",
     "output_type": "error",
     "traceback": [
      "\u001b[0;31m---------------------------------------------------------------------------\u001b[0m",
      "\u001b[0;31mKeyboardInterrupt\u001b[0m                         Traceback (most recent call last)",
      "Input \u001b[0;32mIn [14]\u001b[0m, in \u001b[0;36m<cell line: 1>\u001b[0;34m()\u001b[0m\n\u001b[0;32m----> 1\u001b[0m rn_peaks \u001b[38;5;241m=\u001b[39m \u001b[43mst\u001b[49m\u001b[38;5;241;43m.\u001b[39;49m\u001b[43mget_array\u001b[49m\u001b[43m(\u001b[49m\u001b[43mrun_id\u001b[49m\u001b[43m,\u001b[49m\u001b[43m \u001b[49m\u001b[38;5;124;43m'\u001b[39;49m\u001b[38;5;124;43mpeaks\u001b[39;49m\u001b[38;5;124;43m'\u001b[39;49m\u001b[43m)\u001b[49m\n",
      "File \u001b[0;32m~/.local/lib/python3.8/site-packages/strax/context.py:1440\u001b[0m, in \u001b[0;36mContext.get_array\u001b[0;34m(self, run_id, targets, save, max_workers, **kwargs)\u001b[0m\n\u001b[1;32m   1433\u001b[0m \u001b[38;5;28;01melse\u001b[39;00m:\n\u001b[1;32m   1434\u001b[0m     source \u001b[38;5;241m=\u001b[39m \u001b[38;5;28mself\u001b[39m\u001b[38;5;241m.\u001b[39mget_iter(\n\u001b[1;32m   1435\u001b[0m         run_ids[\u001b[38;5;241m0\u001b[39m],\n\u001b[1;32m   1436\u001b[0m         targets,\n\u001b[1;32m   1437\u001b[0m         save\u001b[38;5;241m=\u001b[39msave,\n\u001b[1;32m   1438\u001b[0m         max_workers\u001b[38;5;241m=\u001b[39mmax_workers,\n\u001b[1;32m   1439\u001b[0m         \u001b[38;5;241m*\u001b[39m\u001b[38;5;241m*\u001b[39mkwargs)\n\u001b[0;32m-> 1440\u001b[0m     results \u001b[38;5;241m=\u001b[39m [x\u001b[38;5;241m.\u001b[39mdata \u001b[38;5;28;01mfor\u001b[39;00m x \u001b[38;5;129;01min\u001b[39;00m source]\n\u001b[1;32m   1442\u001b[0m results \u001b[38;5;241m=\u001b[39m np\u001b[38;5;241m.\u001b[39mconcatenate(results)\n\u001b[1;32m   1443\u001b[0m \u001b[38;5;28;01mreturn\u001b[39;00m results\n",
      "File \u001b[0;32m~/.local/lib/python3.8/site-packages/strax/context.py:1440\u001b[0m, in \u001b[0;36m<listcomp>\u001b[0;34m(.0)\u001b[0m\n\u001b[1;32m   1433\u001b[0m \u001b[38;5;28;01melse\u001b[39;00m:\n\u001b[1;32m   1434\u001b[0m     source \u001b[38;5;241m=\u001b[39m \u001b[38;5;28mself\u001b[39m\u001b[38;5;241m.\u001b[39mget_iter(\n\u001b[1;32m   1435\u001b[0m         run_ids[\u001b[38;5;241m0\u001b[39m],\n\u001b[1;32m   1436\u001b[0m         targets,\n\u001b[1;32m   1437\u001b[0m         save\u001b[38;5;241m=\u001b[39msave,\n\u001b[1;32m   1438\u001b[0m         max_workers\u001b[38;5;241m=\u001b[39mmax_workers,\n\u001b[1;32m   1439\u001b[0m         \u001b[38;5;241m*\u001b[39m\u001b[38;5;241m*\u001b[39mkwargs)\n\u001b[0;32m-> 1440\u001b[0m     results \u001b[38;5;241m=\u001b[39m [x\u001b[38;5;241m.\u001b[39mdata \u001b[38;5;28;01mfor\u001b[39;00m x \u001b[38;5;129;01min\u001b[39;00m source]\n\u001b[1;32m   1442\u001b[0m results \u001b[38;5;241m=\u001b[39m np\u001b[38;5;241m.\u001b[39mconcatenate(results)\n\u001b[1;32m   1443\u001b[0m \u001b[38;5;28;01mreturn\u001b[39;00m results\n",
      "File \u001b[0;32m~/.local/lib/python3.8/site-packages/strax/context.py:1293\u001b[0m, in \u001b[0;36mContext.get_iter\u001b[0;34m(self, run_id, targets, save, max_workers, time_range, seconds_range, time_within, time_selection, selection_str, keep_columns, drop_columns, allow_multiple, progress_bar, _chunk_number, **kwargs)\u001b[0m\n\u001b[1;32m   1291\u001b[0m pbar\u001b[38;5;241m.\u001b[39mlast_print_t \u001b[38;5;241m=\u001b[39m time\u001b[38;5;241m.\u001b[39mtime()\n\u001b[1;32m   1292\u001b[0m pbar\u001b[38;5;241m.\u001b[39mmbs \u001b[38;5;241m=\u001b[39m []\n\u001b[0;32m-> 1293\u001b[0m \u001b[38;5;28;01mfor\u001b[39;00m n_chunks, result \u001b[38;5;129;01min\u001b[39;00m \u001b[38;5;28menumerate\u001b[39m(strax\u001b[38;5;241m.\u001b[39mcontinuity_check(generator), \u001b[38;5;241m1\u001b[39m):\n\u001b[1;32m   1294\u001b[0m     seen_a_chunk \u001b[38;5;241m=\u001b[39m \u001b[38;5;28;01mTrue\u001b[39;00m\n\u001b[1;32m   1295\u001b[0m     \u001b[38;5;28;01mif\u001b[39;00m \u001b[38;5;129;01mnot\u001b[39;00m \u001b[38;5;28misinstance\u001b[39m(result, strax\u001b[38;5;241m.\u001b[39mChunk):\n",
      "File \u001b[0;32m~/.local/lib/python3.8/site-packages/strax/chunk.py:303\u001b[0m, in \u001b[0;36mcontinuity_check\u001b[0;34m(chunk_iter)\u001b[0m\n\u001b[1;32m    300\u001b[0m last_runid \u001b[38;5;241m=\u001b[39m \u001b[38;5;28;01mNone\u001b[39;00m\n\u001b[1;32m    302\u001b[0m last_subrun \u001b[38;5;241m=\u001b[39m {\u001b[38;5;124m'\u001b[39m\u001b[38;5;124mrun_id\u001b[39m\u001b[38;5;124m'\u001b[39m: \u001b[38;5;28;01mNone\u001b[39;00m}\n\u001b[0;32m--> 303\u001b[0m \u001b[38;5;28;01mfor\u001b[39;00m chunk \u001b[38;5;129;01min\u001b[39;00m chunk_iter:\n\u001b[1;32m    304\u001b[0m     \u001b[38;5;28;01mif\u001b[39;00m chunk\u001b[38;5;241m.\u001b[39mrun_id \u001b[38;5;241m!=\u001b[39m last_runid:\n\u001b[1;32m    305\u001b[0m         last_end \u001b[38;5;241m=\u001b[39m \u001b[38;5;28;01mNone\u001b[39;00m\n",
      "File \u001b[0;32m~/.local/lib/python3.8/site-packages/strax/processor.py:255\u001b[0m, in \u001b[0;36mThreadedMailboxProcessor.iter\u001b[0;34m(self)\u001b[0m\n\u001b[1;32m    252\u001b[0m traceback, exc, reason \u001b[38;5;241m=\u001b[39m \u001b[38;5;28;01mNone\u001b[39;00m, \u001b[38;5;28;01mNone\u001b[39;00m, \u001b[38;5;28;01mNone\u001b[39;00m\n\u001b[1;32m    254\u001b[0m \u001b[38;5;28;01mtry\u001b[39;00m:\n\u001b[0;32m--> 255\u001b[0m     \u001b[38;5;28;01myield from\u001b[39;00m final_generator\n\u001b[1;32m    257\u001b[0m \u001b[38;5;66;03m# GeneratorExit results from exception in caller\u001b[39;00m\n\u001b[1;32m    258\u001b[0m \u001b[38;5;66;03m# (on garbage collection, .close() is called, see PEP342)\u001b[39;00m\n\u001b[1;32m    259\u001b[0m \u001b[38;5;28;01mexcept\u001b[39;00m (\u001b[38;5;167;01mException\u001b[39;00m, \u001b[38;5;167;01mGeneratorExit\u001b[39;00m) \u001b[38;5;28;01mas\u001b[39;00m e:\n",
      "File \u001b[0;32m~/.local/lib/python3.8/site-packages/strax/mailbox.py:386\u001b[0m, in \u001b[0;36mMailbox._read\u001b[0;34m(self, subscriber_i)\u001b[0m\n\u001b[1;32m    384\u001b[0m     \u001b[38;5;28;01mif\u001b[39;00m \u001b[38;5;28mself\u001b[39m\u001b[38;5;241m.\u001b[39mlazy \u001b[38;5;129;01mand\u001b[39;00m \u001b[38;5;28mself\u001b[39m\u001b[38;5;241m.\u001b[39m_can_fetch():\n\u001b[1;32m    385\u001b[0m         \u001b[38;5;28mself\u001b[39m\u001b[38;5;241m.\u001b[39m_fetch_new_condition\u001b[38;5;241m.\u001b[39mnotify_all()\n\u001b[0;32m--> 386\u001b[0m     \u001b[38;5;28;01mif\u001b[39;00m \u001b[38;5;129;01mnot\u001b[39;00m \u001b[38;5;28;43mself\u001b[39;49m\u001b[38;5;241;43m.\u001b[39;49m\u001b[43m_read_condition\u001b[49m\u001b[38;5;241;43m.\u001b[39;49m\u001b[43mwait_for\u001b[49m\u001b[43m(\u001b[49m\u001b[43mnext_ready\u001b[49m\u001b[43m,\u001b[49m\n\u001b[1;32m    387\u001b[0m \u001b[43m                                         \u001b[49m\u001b[38;5;28;43mself\u001b[39;49m\u001b[38;5;241;43m.\u001b[39;49m\u001b[43mtimeout\u001b[49m\u001b[43m)\u001b[49m:\n\u001b[1;32m    388\u001b[0m         \u001b[38;5;28;01mraise\u001b[39;00m MailboxReadTimeout(\n\u001b[1;32m    389\u001b[0m             \u001b[38;5;124mf\u001b[39m\u001b[38;5;124m\"\u001b[39m\u001b[38;5;132;01m{\u001b[39;00m\u001b[38;5;28mself\u001b[39m\u001b[38;5;241m.\u001b[39mname\u001b[38;5;132;01m}\u001b[39;00m\u001b[38;5;124m did not get \u001b[39m\u001b[38;5;132;01m{\u001b[39;00mnext_number\u001b[38;5;132;01m}\u001b[39;00m\u001b[38;5;124m in time.\u001b[39m\u001b[38;5;124m\"\u001b[39m)\n\u001b[1;32m    390\u001b[0m \u001b[38;5;28mself\u001b[39m\u001b[38;5;241m.\u001b[39m_subscriber_waiting_for[subscriber_i] \u001b[38;5;241m=\u001b[39m \u001b[38;5;28;01mNone\u001b[39;00m\n",
      "File \u001b[0;32m~/.local/lib/python3.8/site-packages/strax/mailbox.py:132\u001b[0m, in \u001b[0;36mMailbox.__init__.<locals>.Condition.wait_for\u001b[0;34m(self, *args, **kwargs)\u001b[0m\n\u001b[1;32m    129\u001b[0m \u001b[38;5;28;01mdef\u001b[39;00m \u001b[38;5;21mwait_for\u001b[39m(\u001b[38;5;28mself\u001b[39m, \u001b[38;5;241m*\u001b[39margs, \u001b[38;5;241m*\u001b[39m\u001b[38;5;241m*\u001b[39mkwargs):\n\u001b[1;32m    130\u001b[0m     \u001b[38;5;28mself\u001b[39m\u001b[38;5;241m.\u001b[39mlog\u001b[38;5;241m.\u001b[39mdebug(\u001b[38;5;124mf\u001b[39m\u001b[38;5;124m'\u001b[39m\u001b[38;5;124mWaiting for a change in \u001b[39m\u001b[38;5;124m\"\u001b[39m\u001b[38;5;132;01m{\u001b[39;00m\u001b[38;5;28mself\u001b[39m\u001b[38;5;241m.\u001b[39mname\u001b[38;5;132;01m}\u001b[39;00m\u001b[38;5;124m\"\u001b[39m\u001b[38;5;124m with state \u001b[39m\u001b[38;5;132;01m{\u001b[39;00margs[\u001b[38;5;241m0\u001b[39m]\u001b[38;5;132;01m}\u001b[39;00m\u001b[38;5;124m and lock \u001b[39m\u001b[38;5;124m'\u001b[39m\n\u001b[1;32m    131\u001b[0m                    \u001b[38;5;124mf\u001b[39m\u001b[38;5;124m'\u001b[39m\u001b[38;5;124mstate: \u001b[39m\u001b[38;5;132;01m{\u001b[39;00m\u001b[38;5;28mself\u001b[39m\u001b[38;5;241m.\u001b[39m_lock\u001b[38;5;132;01m}\u001b[39;00m\u001b[38;5;124m'\u001b[39m)\n\u001b[0;32m--> 132\u001b[0m     \u001b[38;5;28;01mreturn\u001b[39;00m \u001b[38;5;28;43mself\u001b[39;49m\u001b[38;5;241;43m.\u001b[39;49m\u001b[43mthreading_condition\u001b[49m\u001b[38;5;241;43m.\u001b[39;49m\u001b[43mwait_for\u001b[49m\u001b[43m(\u001b[49m\u001b[38;5;241;43m*\u001b[39;49m\u001b[43margs\u001b[49m\u001b[43m,\u001b[49m\u001b[43m \u001b[49m\u001b[38;5;241;43m*\u001b[39;49m\u001b[38;5;241;43m*\u001b[39;49m\u001b[43mkwargs\u001b[49m\u001b[43m)\u001b[49m\n",
      "File \u001b[0;32m/opt/conda/envs/2022.11.1/lib/python3.8/threading.py:337\u001b[0m, in \u001b[0;36mCondition.wait_for\u001b[0;34m(self, predicate, timeout)\u001b[0m\n\u001b[1;32m    335\u001b[0m             \u001b[38;5;28;01mif\u001b[39;00m waittime \u001b[38;5;241m<\u001b[39m\u001b[38;5;241m=\u001b[39m \u001b[38;5;241m0\u001b[39m:\n\u001b[1;32m    336\u001b[0m                 \u001b[38;5;28;01mbreak\u001b[39;00m\n\u001b[0;32m--> 337\u001b[0m     \u001b[38;5;28;43mself\u001b[39;49m\u001b[38;5;241;43m.\u001b[39;49m\u001b[43mwait\u001b[49m\u001b[43m(\u001b[49m\u001b[43mwaittime\u001b[49m\u001b[43m)\u001b[49m\n\u001b[1;32m    338\u001b[0m     result \u001b[38;5;241m=\u001b[39m predicate()\n\u001b[1;32m    339\u001b[0m \u001b[38;5;28;01mreturn\u001b[39;00m result\n",
      "File \u001b[0;32m/opt/conda/envs/2022.11.1/lib/python3.8/threading.py:306\u001b[0m, in \u001b[0;36mCondition.wait\u001b[0;34m(self, timeout)\u001b[0m\n\u001b[1;32m    304\u001b[0m \u001b[38;5;28;01melse\u001b[39;00m:\n\u001b[1;32m    305\u001b[0m     \u001b[38;5;28;01mif\u001b[39;00m timeout \u001b[38;5;241m>\u001b[39m \u001b[38;5;241m0\u001b[39m:\n\u001b[0;32m--> 306\u001b[0m         gotit \u001b[38;5;241m=\u001b[39m \u001b[43mwaiter\u001b[49m\u001b[38;5;241;43m.\u001b[39;49m\u001b[43macquire\u001b[49m\u001b[43m(\u001b[49m\u001b[38;5;28;43;01mTrue\u001b[39;49;00m\u001b[43m,\u001b[49m\u001b[43m \u001b[49m\u001b[43mtimeout\u001b[49m\u001b[43m)\u001b[49m\n\u001b[1;32m    307\u001b[0m     \u001b[38;5;28;01melse\u001b[39;00m:\n\u001b[1;32m    308\u001b[0m         gotit \u001b[38;5;241m=\u001b[39m waiter\u001b[38;5;241m.\u001b[39macquire(\u001b[38;5;28;01mFalse\u001b[39;00m)\n",
      "\u001b[0;31mKeyboardInterrupt\u001b[0m: "
     ]
    }
   ],
   "source": [
    "rn_peaks = st.get_array(run_id, 'peaks') # get peak level data! this might take a while if the data has not been generated"
   ]
  },
  {
   "cell_type": "code",
   "execution_count": null,
   "id": "95f38754-8823-43e7-890b-ae5c192571e2",
   "metadata": {},
   "outputs": [],
   "source": []
  }
 ],
 "metadata": {
  "kernelspec": {
   "display_name": "Python [conda env:2022.11.1]",
   "language": "python",
   "name": "conda-env-2022.11.1-py"
  },
  "language_info": {
   "codemirror_mode": {
    "name": "ipython",
    "version": 3
   },
   "file_extension": ".py",
   "mimetype": "text/x-python",
   "name": "python",
   "nbconvert_exporter": "python",
   "pygments_lexer": "ipython3",
   "version": "3.8.13"
  }
 },
 "nbformat": 4,
 "nbformat_minor": 5
}
